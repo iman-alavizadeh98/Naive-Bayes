{
 "cells": [
  {
   "cell_type": "markdown",
   "metadata": {},
   "source": [
    "## Importing our libaries"
   ]
  },
  {
   "cell_type": "code",
   "execution_count": 209,
   "metadata": {},
   "outputs": [],
   "source": [
    "import numpy as np\n",
    "import pandas as pd\n",
    "import matplotlib.pyplot as plt\n",
    "import sklearn.datasets as ds\n",
    "from sklearn.model_selection import train_test_split\n",
    "from sklearn.metrics import accuracy_score"
   ]
  },
  {
   "cell_type": "markdown",
   "metadata": {},
   "source": [
    "### loading our Iris data frame "
   ]
  },
  {
   "cell_type": "code",
   "execution_count": 182,
   "metadata": {},
   "outputs": [],
   "source": [
    "DataSetIris=ds.load_iris(return_X_y=True)"
   ]
  },
  {
   "cell_type": "markdown",
   "metadata": {},
   "source": [
    "#### Spliting our data and labels "
   ]
  },
  {
   "cell_type": "code",
   "execution_count": 183,
   "metadata": {},
   "outputs": [],
   "source": [
    "DataSetIrisFeatures=DataSetIris[0]\n",
    "DataSetIrisLabels=DataSetIris[1]"
   ]
  },
  {
   "cell_type": "markdown",
   "metadata": {},
   "source": [
    "### A view of dataset "
   ]
  },
  {
   "cell_type": "code",
   "execution_count": 184,
   "metadata": {},
   "outputs": [
    {
     "data": {
      "text/html": [
       "<div>\n",
       "<style scoped>\n",
       "    .dataframe tbody tr th:only-of-type {\n",
       "        vertical-align: middle;\n",
       "    }\n",
       "\n",
       "    .dataframe tbody tr th {\n",
       "        vertical-align: top;\n",
       "    }\n",
       "\n",
       "    .dataframe thead th {\n",
       "        text-align: right;\n",
       "    }\n",
       "</style>\n",
       "<table border=\"1\" class=\"dataframe\">\n",
       "  <thead>\n",
       "    <tr style=\"text-align: right;\">\n",
       "      <th></th>\n",
       "      <th>sepal length</th>\n",
       "      <th>sepal width</th>\n",
       "      <th>patal length</th>\n",
       "      <th>patal width</th>\n",
       "      <th>labels</th>\n",
       "    </tr>\n",
       "  </thead>\n",
       "  <tbody>\n",
       "    <tr>\n",
       "      <th>145</th>\n",
       "      <td>6.7</td>\n",
       "      <td>3.0</td>\n",
       "      <td>5.2</td>\n",
       "      <td>2.3</td>\n",
       "      <td>2</td>\n",
       "    </tr>\n",
       "    <tr>\n",
       "      <th>146</th>\n",
       "      <td>6.3</td>\n",
       "      <td>2.5</td>\n",
       "      <td>5.0</td>\n",
       "      <td>1.9</td>\n",
       "      <td>2</td>\n",
       "    </tr>\n",
       "    <tr>\n",
       "      <th>147</th>\n",
       "      <td>6.5</td>\n",
       "      <td>3.0</td>\n",
       "      <td>5.2</td>\n",
       "      <td>2.0</td>\n",
       "      <td>2</td>\n",
       "    </tr>\n",
       "    <tr>\n",
       "      <th>148</th>\n",
       "      <td>6.2</td>\n",
       "      <td>3.4</td>\n",
       "      <td>5.4</td>\n",
       "      <td>2.3</td>\n",
       "      <td>2</td>\n",
       "    </tr>\n",
       "    <tr>\n",
       "      <th>149</th>\n",
       "      <td>5.9</td>\n",
       "      <td>3.0</td>\n",
       "      <td>5.1</td>\n",
       "      <td>1.8</td>\n",
       "      <td>2</td>\n",
       "    </tr>\n",
       "  </tbody>\n",
       "</table>\n",
       "</div>"
      ],
      "text/plain": [
       "     sepal length  sepal width  patal length  patal width  labels\n",
       "145           6.7          3.0           5.2          2.3       2\n",
       "146           6.3          2.5           5.0          1.9       2\n",
       "147           6.5          3.0           5.2          2.0       2\n",
       "148           6.2          3.4           5.4          2.3       2\n",
       "149           5.9          3.0           5.1          1.8       2"
      ]
     },
     "execution_count": 184,
     "metadata": {},
     "output_type": "execute_result"
    }
   ],
   "source": [
    "frame=pd.DataFrame(dataset_data,columns=[\"sepal length\",\"sepal width\",\"patal length\",\"patal width\"])\n",
    "frame['labels']=dataset_labels\n",
    "frame.tail()"
   ]
  },
  {
   "cell_type": "markdown",
   "metadata": {},
   "source": [
    "#### Spliting our training set and test set "
   ]
  },
  {
   "cell_type": "code",
   "execution_count": 185,
   "metadata": {},
   "outputs": [],
   "source": [
    "x=frame[['patal length']]\n",
    "y=frame[['labels']]"
   ]
  },
  {
   "cell_type": "code",
   "execution_count": 186,
   "metadata": {},
   "outputs": [],
   "source": [
    "x_train,x_test,y_train,y_test=train_test_split(x,y,test_size=0.2)"
   ]
  },
  {
   "cell_type": "markdown",
   "metadata": {},
   "source": [
    "### Defining Our Gaussian Probability"
   ]
  },
  {
   "cell_type": "code",
   "execution_count": 187,
   "metadata": {},
   "outputs": [],
   "source": [
    "def bayes(x,std,mean):\n",
    "    return (1/(np.sqrt(2*np.pi*(np.power(std,2)))))*np.exp(-(1/2)*((x-mean)**2/std**2))"
   ]
  },
  {
   "cell_type": "markdown",
   "metadata": {},
   "source": [
    "## Splitting our data in to tree class label "
   ]
  },
  {
   "cell_type": "markdown",
   "metadata": {},
   "source": [
    "##### Creating new Data Frame for our train and test sets "
   ]
  },
  {
   "cell_type": "code",
   "execution_count": 188,
   "metadata": {},
   "outputs": [],
   "source": [
    "new_train_frame=pd.DataFrame(x_train)\n",
    "new_train_frame['labels']=y_train\n",
    "\n",
    "new_test_frame=pd.DataFrame(x_test)\n",
    "new_test_frame['labels']=y_test"
   ]
  },
  {
   "cell_type": "markdown",
   "metadata": {},
   "source": [
    "#### Grouping  Training data sets with labels"
   ]
  },
  {
   "cell_type": "code",
   "execution_count": 189,
   "metadata": {},
   "outputs": [],
   "source": [
    "new_train_frame_grouped=new_train_frame.groupby('labels')\n",
    "label_0_train_data=new_train_frame_grouped.get_group(0)\n",
    "label_1_train_data=new_train_frame_grouped.get_group(1)\n",
    "label_2_train_data=new_train_frame_grouped.get_group(2)"
   ]
  },
  {
   "cell_type": "markdown",
   "metadata": {},
   "source": [
    "#### Calculating Standard Deviation and mean of each labels  "
   ]
  },
  {
   "cell_type": "code",
   "execution_count": 190,
   "metadata": {},
   "outputs": [],
   "source": [
    "label_0_mean=label_0_train_data['patal length'].values.mean()\n",
    "label_0_std=label_0_train_data['patal length'].values.std()\n",
    "\n",
    "label_1_mean=label_1_train_data['patal length'].values.mean()\n",
    "label_1_std=label_1_train_data['patal length'].values.std()\n",
    "\n",
    "label_2_mean=label_2_train_data['patal length'].values.mean()\n",
    "label_2_std=label_2_train_data['patal length'].values.std()"
   ]
  },
  {
   "cell_type": "markdown",
   "metadata": {},
   "source": [
    "#### Calculating bayes value for each labels "
   ]
  },
  {
   "cell_type": "code",
   "execution_count": 191,
   "metadata": {},
   "outputs": [
    {
     "data": {
      "text/plain": [
       "array([2.02431772, 0.8574451 , 2.02431772, 1.51483997, 0.36711098,\n",
       "       0.90473907, 1.56443301, 2.02431772, 1.51483997, 2.02431772,\n",
       "       2.02431772, 2.02431772, 0.13095152, 2.04617173, 2.02431772,\n",
       "       0.90473907, 2.02431772, 2.04617173, 0.13095152, 1.56443301,\n",
       "       1.56443301, 2.04617173, 0.11888852, 2.02431772, 1.51483997,\n",
       "       2.04617173, 1.51483997, 1.51483997, 0.90473907, 2.02431772,\n",
       "       0.90473907, 2.04617173, 1.56443301, 2.04617173, 1.56443301,\n",
       "       2.02431772, 2.02431772, 1.51483997, 0.8574451 ])"
      ]
     },
     "execution_count": 191,
     "metadata": {},
     "output_type": "execute_result"
    }
   ],
   "source": [
    "label_0_y=list()\n",
    "for x in label_0_train_data['patal length'].values:\n",
    "    label_0_y.append(bayes(x,label_0_std,label_0_mean))\n",
    "label_0_y=np.array(label_0_y)\n",
    "\n",
    "label_1_y=list()\n",
    "for x in label_1_train_data['patal length'].values:\n",
    "    label_1_y.append(bayes(x,label_1_std,label_1_mean))\n",
    "label_1_y=np.array(label_1_y)\n",
    "\n",
    "label_2_y=list()\n",
    "for x in label_2_train_data['patal length'].values:\n",
    "    label_2_y.append(bayes(x,label_2_std,label_2_mean))\n",
    "label_2_y=np.array(label_2_y)\n",
    "label_0_y"
   ]
  },
  {
   "cell_type": "markdown",
   "metadata": {},
   "source": [
    "### Plotting The bayes value of each labels "
   ]
  },
  {
   "cell_type": "code",
   "execution_count": 192,
   "metadata": {},
   "outputs": [
    {
     "data": {
      "image/png": "[encoded data removed]",
      "text/plain": [
       "<Figure size 1440x720 with 1 Axes>"
      ]
     },
     "metadata": {
      "needs_background": "light"
     },
     "output_type": "display_data"
    }
   ],
   "source": [
    "plt.figure(figsize=(20,10))\n",
    "plt.plot(label_0_train_data['patal length'].values,label_0_y,'ro',\n",
    "         label_1_train_data['patal length'].values,label_1_y,'bo',\n",
    "         label_2_train_data['patal length'].values,label_2_y,'yo')\n",
    "plt.show()"
   ]
  },
  {
   "cell_type": "markdown",
   "metadata": {},
   "source": [
    "#### Testing our Test Set "
   ]
  },
  {
   "cell_type": "code",
   "execution_count": 220,
   "metadata": {},
   "outputs": [
    {
     "data": {
      "text/plain": [
       "array([1, 1, 2, 0, 1, 0, 0, 2, 0, 1, 0, 1, 0, 2, 2, 2, 1, 2, 0, 0, 1, 1,\n",
       "       0, 1, 2, 1, 0, 2, 2, 0])"
      ]
     },
     "execution_count": 220,
     "metadata": {},
     "output_type": "execute_result"
    }
   ],
   "source": [
    "predicted_label=list()\n",
    "for index in range(len(new_test_frame)):\n",
    "    label_0_bays=bayes(new_test_frame['patal length'].values[index],label_0_std,label_0_mean)\n",
    "    label_1_bays=bayes(new_test_frame['patal length'].values[index],label_1_std,label_1_mean)\n",
    "    label_2_bays=bayes(new_test_frame['patal length'].values[index],label_2_std,label_2_mean)\n",
    "    \n",
    "    predicted=None\n",
    "    if label_0_bays >= label_1_bays and label_0_bays >= label_2_bays:\n",
    "        predicted=0\n",
    "    elif label_1_bays >= label_0_bays and label_1_bays >= label_2_bays:\n",
    "        predicted=1\n",
    "    elif label_2_bays >= label_0_bays and label_2_bays >= label_1_bays:\n",
    "        predicted=2\n",
    "    \n",
    "    predicted_label.append(predicted)\n",
    "    \n",
    "\n",
    "predicted_label=np.array(predicted_label)\n",
    "\n",
    "predicted_label"
   ]
  },
  {
   "cell_type": "markdown",
   "metadata": {},
   "source": [
    "### Our accuracy "
   ]
  },
  {
   "cell_type": "code",
   "execution_count": 219,
   "metadata": {},
   "outputs": [
    {
     "data": {
      "text/plain": [
       "96.66666666666667"
      ]
     },
     "execution_count": 219,
     "metadata": {},
     "output_type": "execute_result"
    }
   ],
   "source": [
    "accuracy_score(new_test_frame['labels'].values,predicted_label)*100"
   ]
  }
 ],
 "metadata": {
  "kernelspec": {
   "display_name": "Python 3",
   "language": "python",
   "name": "python3"
  },
  "language_info": {
   "codemirror_mode": {
    "name": "ipython",
    "version": 3
   },
   "file_extension": ".py",
   "mimetype": "text/x-python",
   "name": "python",
   "nbconvert_exporter": "python",
   "pygments_lexer": "ipython3",
   "version": "3.7.3"
  }
 },
 "nbformat": 4,
 "nbformat_minor": 1
}
